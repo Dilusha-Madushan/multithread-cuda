{
  "nbformat": 4,
  "nbformat_minor": 0,
  "metadata": {
    "colab": {
      "provenance": []
    },
    "kernelspec": {
      "name": "python3",
      "display_name": "Python 3"
    },
    "language_info": {
      "name": "python"
    }
  },
  "cells": [
    {
      "cell_type": "markdown",
      "source": [
        "# Password cracking using multithreading"
      ],
      "metadata": {
        "id": "vMQtHQjNvFIN"
      }
    },
    {
      "cell_type": "code",
      "source": [
        "!apt-get update\n",
        "!apt-get install -y libxcrypt-dev\n"
      ],
      "metadata": {
        "colab": {
          "base_uri": "https://localhost:8080/"
        },
        "id": "ObKmJ6dCmFAv",
        "outputId": "1873b577-f75a-4e60-e281-bf98534a738f"
      },
      "execution_count": null,
      "outputs": [
        {
          "output_type": "stream",
          "name": "stdout",
          "text": [
            "\r0% [Working]\r            \rGet:1 http://security.ubuntu.com/ubuntu jammy-security InRelease [110 kB]\n",
            "Get:2 https://cloud.r-project.org/bin/linux/ubuntu jammy-cran40/ InRelease [3,626 B]\n",
            "Hit:3 https://developer.download.nvidia.com/compute/cuda/repos/ubuntu2204/x86_64  InRelease\n",
            "Hit:4 http://archive.ubuntu.com/ubuntu jammy InRelease\n",
            "Get:5 http://archive.ubuntu.com/ubuntu jammy-updates InRelease [119 kB]\n",
            "Get:6 http://security.ubuntu.com/ubuntu jammy-security/restricted amd64 Packages [2,308 kB]\n",
            "Hit:7 https://ppa.launchpadcontent.net/c2d4u.team/c2d4u4.0+/ubuntu jammy InRelease\n",
            "Hit:8 https://ppa.launchpadcontent.net/deadsnakes/ppa/ubuntu jammy InRelease\n",
            "Get:9 http://archive.ubuntu.com/ubuntu jammy-backports InRelease [109 kB]\n",
            "Get:10 http://security.ubuntu.com/ubuntu jammy-security/main amd64 Packages [1,789 kB]\n",
            "Hit:11 https://ppa.launchpadcontent.net/graphics-drivers/ppa/ubuntu jammy InRelease\n",
            "Hit:12 https://ppa.launchpadcontent.net/ubuntugis/ppa/ubuntu jammy InRelease\n",
            "Get:13 http://archive.ubuntu.com/ubuntu jammy-updates/universe amd64 Packages [1,373 kB]\n",
            "Get:14 http://archive.ubuntu.com/ubuntu jammy-updates/restricted amd64 Packages [2,382 kB]\n",
            "Get:15 http://archive.ubuntu.com/ubuntu jammy-updates/main amd64 Packages [2,069 kB]\n",
            "Get:16 http://archive.ubuntu.com/ubuntu jammy-backports/universe amd64 Packages [31.9 kB]\n",
            "Fetched 10.3 MB in 2s (4,585 kB/s)\n",
            "Reading package lists... Done\n",
            "Reading package lists... Done\n",
            "Building dependency tree... Done\n",
            "Reading state information... Done\n",
            "E: Unable to locate package libxcrypt-dev\n"
          ]
        }
      ]
    },
    {
      "cell_type": "code",
      "source": [
        "%%writefile EncryptSHA512.c\n",
        "\n",
        "#include <string.h>\n",
        "#include <stdio.h>\n",
        "#include <stdlib.h>\n",
        "#include <crypt.h>\n",
        "#include <unistd.h>\n",
        "\n",
        "#define SALT \"$6$AS$\"\n",
        "\n",
        "int main(int argc, char *argv[]){\n",
        "    if (argc != 2) {\n",
        "        printf(\"Usage: %s <plain_password>\\n\", argv[0]);\n",
        "        return 1;\n",
        "    }\n",
        "\n",
        "    printf(\"Password: %s\\n\", argv[1]);\n",
        "\n",
        "    // Encrypt using the specified salt\n",
        "    char *encrypted = crypt(argv[1], SALT);\n",
        "\n",
        "    if (encrypted != NULL) {\n",
        "        printf(\"Encrypted password: %s\\n\", encrypted);\n",
        "    } else {\n",
        "        printf(\"Error encrypting password.\\n\");\n",
        "    }\n",
        "\n",
        "    return 0;\n",
        "}\n"
      ],
      "metadata": {
        "colab": {
          "base_uri": "https://localhost:8080/"
        },
        "id": "_k2Y9qG-xqHD",
        "outputId": "558e507f-0100-446e-8c9f-d46841c78029"
      },
      "execution_count": null,
      "outputs": [
        {
          "output_type": "stream",
          "name": "stdout",
          "text": [
            "Writing EncryptSHA512.c\n"
          ]
        }
      ]
    },
    {
      "cell_type": "code",
      "source": [
        "%%writefile CrackAZ99_MT.c\n",
        "\n",
        "#include <stdio.h>\n",
        "#include <string.h>\n",
        "#include <stdlib.h>\n",
        "#include <pthread.h>\n",
        "#include <crypt.h>\n",
        "#include <unistd.h>\n",
        "\n",
        "int count = 0; // Counter used to track the number of combinations explored\n",
        "\n",
        "pthread_mutex_t crypt_mutex = PTHREAD_MUTEX_INITIALIZER;\n",
        "\n",
        "// Structure for passing data to each thread\n",
        "typedef struct {\n",
        "    int start_letter;\n",
        "    int end_letter;\n",
        "    char salt[7];\n",
        "    char *salt_and_encrypted;\n",
        "} ThreadArgs;\n",
        "\n",
        "pthread_mutex_t count_mutex = PTHREAD_MUTEX_INITIALIZER;\n",
        "pthread_mutex_t found_mutex = PTHREAD_MUTEX_INITIALIZER;\n",
        "int password_found = 0;\n",
        "\n",
        "// Utility function to copy a substring\n",
        "void substr(char *dest, char *src, int start, int length) {\n",
        "    memcpy(dest, src + start, length);\n",
        "    *(dest + length) = '\\0';\n",
        "}\n",
        "\n",
        "// Thread function to crack a password\n",
        "void* crack(void* args) {\n",
        "    ThreadArgs* thread_args = (ThreadArgs*)args;\n",
        "    char plain[7]; // Combination currently being checked\n",
        "    char *enc;     // Pointer to encrypted password\n",
        "    int x, y, z;\n",
        "\n",
        "    // Loop through the first letter range assigned to this thread\n",
        "    for (x = thread_args->start_letter; x <= thread_args->end_letter && !password_found; x++) {\n",
        "        for (y = 'A'; y <= 'Z' && !password_found; y++) {\n",
        "            for (z = 0; z <= 99 && !password_found; z++) {\n",
        "                sprintf(plain, \"%c%c%02d\", x, y, z);\n",
        "\n",
        "                pthread_mutex_lock(&crypt_mutex);\n",
        "                enc = (char *)crypt(plain, thread_args->salt);\n",
        "                pthread_mutex_unlock(&crypt_mutex);\n",
        "\n",
        "\n",
        "                // Increment count safely\n",
        "                pthread_mutex_lock(&count_mutex);\n",
        "                count++;\n",
        "                pthread_mutex_unlock(&count_mutex);\n",
        "\n",
        "                // Check if the current combination matches the given hash\n",
        "                if (strcmp(thread_args->salt_and_encrypted, enc) == 0) {\n",
        "                    pthread_mutex_lock(&found_mutex);\n",
        "                    if (!password_found) {\n",
        "                        password_found = 1; // Flag to signal that the password is found\n",
        "                        printf(\"#%-8d%s %s\\n\", count, plain, enc);\n",
        "                    }\n",
        "                    pthread_mutex_unlock(&found_mutex);\n",
        "                    return NULL; // Return immediately to stop further searches\n",
        "                }\n",
        "            }\n",
        "        }\n",
        "    }\n",
        "    return NULL;\n",
        "}\n",
        "\n",
        "// Main function to set up threads and crack the password\n",
        "int main(int argc, char *argv[]) {\n",
        "    if (argc != 3) {\n",
        "        printf(\"Usage: %s <encrypted_password> <num_threads>\\n\", argv[0]);\n",
        "        return 1;\n",
        "    }\n",
        "\n",
        "    char *salt_and_encrypted = argv[1];\n",
        "    int num_threads = atoi(argv[2]);\n",
        "\n",
        "    if (num_threads <= 0 || num_threads > 26) {\n",
        "        printf(\"Number of threads must be between 1 and 26.\\n\");\n",
        "        return 1;\n",
        "    }\n",
        "\n",
        "    char salt[7];\n",
        "    substr(salt, salt_and_encrypted, 0, 6);\n",
        "\n",
        "    // Print the salt being used for debugging\n",
        "    printf(\"Using Salt: %s\\n\", salt);\n",
        "\n",
        "    // Create threads and assign letter ranges\n",
        "    pthread_t threads[num_threads];\n",
        "    ThreadArgs args[num_threads];\n",
        "\n",
        "    int letters_per_thread = 26 / num_threads;\n",
        "    int remaining_letters = 26 % num_threads;\n",
        "    char current_letter = 'A';\n",
        "\n",
        "    for (int i = 0; i < num_threads; ++i) {\n",
        "        args[i].start_letter = current_letter;\n",
        "        args[i].end_letter = current_letter + letters_per_thread - 1;\n",
        "        if (i < remaining_letters) {\n",
        "            args[i].end_letter += 1;\n",
        "        }\n",
        "        current_letter = args[i].end_letter + 1;\n",
        "\n",
        "        strcpy(args[i].salt, salt);\n",
        "        args[i].salt_and_encrypted = salt_and_encrypted;\n",
        "\n",
        "        pthread_create(&threads[i], NULL, crack, &args[i]);\n",
        "    }\n",
        "\n",
        "    // Join threads\n",
        "    for (int i = 0; i < num_threads; ++i) {\n",
        "        pthread_join(threads[i], NULL);\n",
        "    }\n",
        "\n",
        "    printf(\"%d solutions explored\\n\", count);\n",
        "    return 0;\n",
        "}\n",
        "\n"
      ],
      "metadata": {
        "colab": {
          "base_uri": "https://localhost:8080/"
        },
        "id": "xfEShfJeaKv9",
        "outputId": "1cc51b31-797a-41dd-feba-1036c739e413"
      },
      "execution_count": null,
      "outputs": [
        {
          "output_type": "stream",
          "name": "stdout",
          "text": [
            "Writing CrackAZ99_MT.c\n"
          ]
        }
      ]
    },
    {
      "cell_type": "code",
      "source": [
        "!gcc -o EncryptSHA512 EncryptSHA512.c -lcrypt"
      ],
      "metadata": {
        "id": "zTwjQgdDmtBW"
      },
      "execution_count": null,
      "outputs": []
    },
    {
      "cell_type": "code",
      "source": [
        "!./EncryptSHA512 \"AB12\""
      ],
      "metadata": {
        "colab": {
          "base_uri": "https://localhost:8080/"
        },
        "id": "0X6pyS2BmvcX",
        "outputId": "f601ba49-6eb9-4cbf-8149-4f12eae01ff6"
      },
      "execution_count": null,
      "outputs": [
        {
          "output_type": "stream",
          "name": "stdout",
          "text": [
            "Password: AB12\n",
            "Encrypted password: $6$AS$EquwSMfZH6UigdniioE8VWG9qfQ/iburie8TclTB4HCYRomJtmDsM31EqQEbs5Zk09UzWMOtHoXFFmdKRKVoy/\n"
          ]
        }
      ]
    },
    {
      "cell_type": "code",
      "source": [
        "!gcc -pthread -o CrackAZ99_MT CrackAZ99_MT.c -lcrypt\n"
      ],
      "metadata": {
        "id": "KgGihy6IjAF7"
      },
      "execution_count": null,
      "outputs": []
    },
    {
      "cell_type": "code",
      "source": [
        "!./CrackAZ99_MT '$6$AS$EquwSMfZH6UigdniioE8VWG9qfQ/iburie8TclTB4HCYRomJtmDsM31EqQEbs5Zk09UzWMOtHoXFFmdKRKVoy/' 4\n"
      ],
      "metadata": {
        "colab": {
          "base_uri": "https://localhost:8080/"
        },
        "id": "V8ktctalmWus",
        "outputId": "5aa43f80-7870-48ff-e3ef-19d06816265d"
      },
      "execution_count": null,
      "outputs": [
        {
          "output_type": "stream",
          "name": "stdout",
          "text": [
            "Using Salt: $6$AS$\n",
            "#617     AB12 $6$AS$EquwSMfZH6UigdniioE8VWG9qfQ/iburie8TclTB4HCYRomJtmDsM31EqQEbs5Zk09UzWMOtHoXFFmdKRKVoy/\n",
            "620 solutions explored\n"
          ]
        }
      ]
    }
  ]
}