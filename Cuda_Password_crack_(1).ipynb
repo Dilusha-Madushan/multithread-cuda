{
  "metadata": {
    "colab": {
      "provenance": [],
      "gpuType": "T4"
    },
    "kernelspec": {
      "name": "python3",
      "display_name": "Python 3",
      "language": "python"
    },
    "language_info": {
      "name": "python",
      "version": "3.10.13",
      "mimetype": "text/x-python",
      "codemirror_mode": {
        "name": "ipython",
        "version": 3
      },
      "pygments_lexer": "ipython3",
      "nbconvert_exporter": "python",
      "file_extension": ".py"
    },
    "accelerator": "GPU",
    "kaggle": {
      "accelerator": "gpu",
      "dataSources": [],
      "dockerImageVersionId": 30699,
      "isInternetEnabled": true,
      "language": "python",
      "sourceType": "notebook",
      "isGpuEnabled": true
    }
  },
  "nbformat_minor": 0,
  "nbformat": 4,
  "cells": [
    {
      "cell_type": "markdown",
      "source": [
        "# Cuda Password Crack"
      ],
      "metadata": {
        "id": "5AB6DxiAK1ZD"
      }
    },
    {
      "cell_type": "code",
      "source": [
        "!nvcc --version"
      ],
      "metadata": {
        "colab": {
          "base_uri": "https://localhost:8080/"
        },
        "id": "lSJlFV9NExEK",
        "outputId": "e63222fd-7983-42d6-dc1f-bda26180c3af",
        "execution": {
          "iopub.status.busy": "2024-05-08T20:30:53.18522Z",
          "iopub.execute_input": "2024-05-08T20:30:53.185595Z",
          "iopub.status.idle": "2024-05-08T20:30:54.194294Z",
          "shell.execute_reply.started": "2024-05-08T20:30:53.185569Z",
          "shell.execute_reply": "2024-05-08T20:30:54.193127Z"
        },
        "trusted": true
      },
      "execution_count": null,
      "outputs": [
        {
          "name": "stdout",
          "text": "nvcc: NVIDIA (R) Cuda compiler driver\nCopyright (c) 2005-2023 NVIDIA Corporation\nBuilt on Mon_Apr__3_17:16:06_PDT_2023\nCuda compilation tools, release 12.1, V12.1.105\nBuild cuda_12.1.r12.1/compiler.32688072_0\n",
          "output_type": "stream"
        }
      ]
    },
    {
      "cell_type": "code",
      "source": [
        "!pip install git+https://github.com/andreinechaev/nvcc4jupyter.git"
      ],
      "metadata": {
        "colab": {
          "base_uri": "https://localhost:8080/"
        },
        "id": "UY2O-EzDFmv7",
        "outputId": "c014e012-a6c4-407e-ae1b-f7aee3078f69",
        "execution": {
          "iopub.status.busy": "2024-05-08T20:30:56.989072Z",
          "iopub.execute_input": "2024-05-08T20:30:56.989505Z",
          "iopub.status.idle": "2024-05-08T20:31:27.051809Z",
          "shell.execute_reply.started": "2024-05-08T20:30:56.98947Z",
          "shell.execute_reply": "2024-05-08T20:31:27.050529Z"
        },
        "trusted": true
      },
      "execution_count": null,
      "outputs": [
        {
          "name": "stdout",
          "text": "Collecting git+https://github.com/andreinechaev/nvcc4jupyter.git\n  Cloning https://github.com/andreinechaev/nvcc4jupyter.git to /tmp/pip-req-build-ffozre1g\n  Running command git clone --filter=blob:none --quiet https://github.com/andreinechaev/nvcc4jupyter.git /tmp/pip-req-build-ffozre1g\n  Resolved https://github.com/andreinechaev/nvcc4jupyter.git to commit 326b0a57a80c6d0b4bad25ca7adf8138419ef1cb\n  Installing build dependencies ... \u001b[?25ldone\n\u001b[?25h  Getting requirements to build wheel ... \u001b[?25ldone\n\u001b[?25h  Preparing metadata (pyproject.toml) ... \u001b[?25ldone\n\u001b[?25hBuilding wheels for collected packages: nvcc4jupyter\n  Building wheel for nvcc4jupyter (pyproject.toml) ... \u001b[?25ldone\n\u001b[?25h  Created wheel for nvcc4jupyter: filename=nvcc4jupyter-1.2.1-py3-none-any.whl size=10741 sha256=1c43b610d84440f376c57bb0b3d20f87e2433fdb6f06eb98d5fd7c81c461a971\n  Stored in directory: /tmp/pip-ephem-wheel-cache-bzylw3z1/wheels/a8/b9/18/23f8ef71ceb0f63297dd1903aedd067e6243a68ea756d6feea\nSuccessfully built nvcc4jupyter\nInstalling collected packages: nvcc4jupyter\nSuccessfully installed nvcc4jupyter-1.2.1\n",
          "output_type": "stream"
        }
      ]
    },
    {
      "cell_type": "code",
      "source": [
        "%load_ext nvcc4jupyter"
      ],
      "metadata": {
        "colab": {
          "base_uri": "https://localhost:8080/"
        },
        "id": "NWxhSKskFov4",
        "outputId": "57fe7a36-ba74-44e1-9b22-b1d537cbc088",
        "execution": {
          "iopub.status.busy": "2024-05-08T20:31:27.053914Z",
          "iopub.execute_input": "2024-05-08T20:31:27.054257Z",
          "iopub.status.idle": "2024-05-08T20:35:38.424211Z",
          "shell.execute_reply.started": "2024-05-08T20:31:27.054225Z",
          "shell.execute_reply": "2024-05-08T20:35:38.422804Z"
        },
        "trusted": true
      },
      "execution_count": null,
      "outputs": [
        {
          "name": "stdout",
          "text": "Detected platform \"Kaggle\". Running its setup...\nUpdating the package lists...\nInstalling nvidia-cuda-toolkit, this may take a few minutes...\nSource files will be saved in \"/tmp/tmp4gtan6ul\".\n",
          "output_type": "stream"
        }
      ]
    },
    {
      "cell_type": "code",
      "source": [
        "%%writefile cudacrack.cu\n",
        "\n",
        "#include <stdio.h>\n",
        "#include <stdlib.h>\n",
        "#include <string.h>\n",
        "\n",
        "// GPU encryption function\n",
        "// GPU encryption function\n",
        "__device__ void CudaCrypt(char* rawPassword, char* newPassword) {\n",
        "    // Encryption logic for each input character\n",
        "    newPassword[0] = rawPassword[0] + 2;\n",
        "    newPassword[1] = rawPassword[0] - 2;\n",
        "    newPassword[2] = rawPassword[0] + 1;\n",
        "    newPassword[3] = rawPassword[1] + 3;\n",
        "    newPassword[4] = rawPassword[1] - 3;\n",
        "    newPassword[5] = rawPassword[1] - 1;\n",
        "    newPassword[6] = rawPassword[2] + 2;\n",
        "    newPassword[7] = rawPassword[2] - 2;\n",
        "    newPassword[8] = rawPassword[3] + 4;\n",
        "    newPassword[9] = rawPassword[3] - 4;\n",
        "    newPassword[10] = '\\0';\n",
        "\n",
        "    // Adjust the newPassword array to fit the specified ranges\n",
        "    for (int i = 0; i < 10; i++) {\n",
        "        if (i < 6) { // Ensure uppercase letter limits (A-Z)\n",
        "            if (newPassword[i] > 90) { // 90 = 'Z'\n",
        "                newPassword[i] = (newPassword[i] - 90) + 65; // 65 = 'A'\n",
        "            } else if (newPassword[i] < 65) { // 65 = 'A'\n",
        "                newPassword[i] = (65 - newPassword[i]) + 65;\n",
        "            }\n",
        "        } else { // Ensure numeric limits (0-9)\n",
        "            if (newPassword[i] > 57) { // 57 = '9'\n",
        "                newPassword[i] = (newPassword[i] - 57) + 48; // 48 = '0'\n",
        "            } else if (newPassword[i] < 48) { // 48 = '0'\n",
        "                newPassword[i] = (48 - newPassword[i]) + 48;\n",
        "            }\n",
        "        }\n",
        "    }\n",
        "}\n",
        "\n",
        "// GPU kernel function for encryption\n",
        "__global__ void encryptKernel(char* d_rawPassword, char* d_encryptedPassword) {\n",
        "    CudaCrypt(d_rawPassword, d_encryptedPassword);\n",
        "}\n",
        "\n",
        "int main(int argc, char** argv) {\n",
        "    // Ensure a password argument is provided\n",
        "    if (argc != 2 || strlen(argv[1]) != 4) {\n",
        "        fprintf(stderr, \"Usage: %s <4-character password>\\n\", argv[0]);\n",
        "        return 1;\n",
        "    }\n",
        "\n",
        "    // Get the password from the command-line argument\n",
        "    char rawPassword[11] = {0};\n",
        "    strncpy(rawPassword, argv[1], 4);\n",
        "    rawPassword[4] = '\\0'; // Ensure null termination\n",
        "\n",
        "    // Allocate memory for encrypted password on the host\n",
        "    char encryptedPassword[11] = {0};\n",
        "\n",
        "    // Allocate memory on the device\n",
        "    char *d_rawPassword, *d_encryptedPassword;\n",
        "    cudaMalloc((void**)&d_rawPassword, sizeof(rawPassword));\n",
        "    cudaMalloc((void**)&d_encryptedPassword, sizeof(encryptedPassword));\n",
        "\n",
        "    // Copy user input to the GPU\n",
        "    cudaMemcpy(d_rawPassword, rawPassword, sizeof(rawPassword), cudaMemcpyHostToDevice);\n",
        "\n",
        "    // Launch encryption kernel\n",
        "    encryptKernel<<<1, 1>>>(d_rawPassword, d_encryptedPassword);\n",
        "\n",
        "    // Wait for the kernel to finish\n",
        "    cudaDeviceSynchronize();\n",
        "\n",
        "    // Copy the encrypted password back to the host\n",
        "    cudaMemcpy(encryptedPassword, d_encryptedPassword, sizeof(encryptedPassword), cudaMemcpyDeviceToHost);\n",
        "\n",
        "    // Display the encrypted password\n",
        "    printf(\"Encrypted Password: %s\\n\", encryptedPassword);\n",
        "\n",
        "    // Cleanup device memory\n",
        "    cudaFree(d_rawPassword);\n",
        "    cudaFree(d_encryptedPassword);\n",
        "\n",
        "    return 0;\n",
        "}\n",
        "\n"
      ],
      "metadata": {
        "colab": {
          "base_uri": "https://localhost:8080/"
        },
        "id": "1tX7EAg9-Ls5",
        "outputId": "4fac2d9f-48ff-404e-b938-df4864682363",
        "execution": {
          "iopub.status.busy": "2024-05-08T20:44:05.932734Z",
          "iopub.execute_input": "2024-05-08T20:44:05.933184Z",
          "iopub.status.idle": "2024-05-08T20:44:05.942941Z",
          "shell.execute_reply.started": "2024-05-08T20:44:05.933152Z",
          "shell.execute_reply": "2024-05-08T20:44:05.941879Z"
        },
        "trusted": true
      },
      "execution_count": null,
      "outputs": [
        {
          "name": "stdout",
          "text": "Overwriting cudacrack.cu\n",
          "output_type": "stream"
        }
      ]
    },
    {
      "cell_type": "code",
      "source": [
        "%%writefile passwordCracker.cu\n",
        "\n",
        "#include <stdio.h>\n",
        "#include <string.h>\n",
        "\n",
        "// GPU encryption function using uppercase letters and numbers\n",
        "__device__ void CudaCrypt(char* rawPassword, char* newPassword) {\n",
        "    // Encryption logic for each input character\n",
        "    newPassword[0] = rawPassword[0] + 2;\n",
        "    newPassword[1] = rawPassword[0] - 2;\n",
        "    newPassword[2] = rawPassword[0] + 1;\n",
        "    newPassword[3] = rawPassword[1] + 3;\n",
        "    newPassword[4] = rawPassword[1] - 3;\n",
        "    newPassword[5] = rawPassword[1] - 1;\n",
        "    newPassword[6] = rawPassword[2] + 2;\n",
        "    newPassword[7] = rawPassword[2] - 2;\n",
        "    newPassword[8] = rawPassword[3] + 4;\n",
        "    newPassword[9] = rawPassword[3] - 4;\n",
        "    newPassword[10] = '\\0';\n",
        "\n",
        "    // Ensure uppercase letter limits (A-Z)\n",
        "    for (int i = 0; i < 6; i++) {\n",
        "        if (newPassword[i] > 90) { // 'Z'\n",
        "            newPassword[i] = (newPassword[i] - 90) + 65; // 'A'\n",
        "        } else if (newPassword[i] < 65) { // 'A'\n",
        "            newPassword[i] = (65 - newPassword[i]) + 65;\n",
        "        }\n",
        "    }\n",
        "\n",
        "    // Ensure numeric limits (0-9)\n",
        "    for (int i = 6; i < 10; i++) {\n",
        "        if (newPassword[i] > 57) { // '9'\n",
        "            newPassword[i] = (newPassword[i] - 57) + 48; // '0'\n",
        "        } else if (newPassword[i] < 48) { // '0'\n",
        "            newPassword[i] = (48 - newPassword[i]) + 48;\n",
        "        }\n",
        "    }\n",
        "}\n",
        "\n",
        "// Kernel function for cracking passwords\n",
        "__global__ void crackKernel(char* d_target, char* d_decryptedPassword, bool* d_found) {\n",
        "    // Define character sets for the password pattern 'UpperCaseLetterUpperCaseLetterNumberNumber'\n",
        "    const char uppercase[] = \"ABCDEFGHIJKLMNOPQRSTUVWXYZ\";\n",
        "    const char digits[] = \"0123456789\";\n",
        "    const int letterSize = sizeof(uppercase) - 1;\n",
        "    const int digitSize = sizeof(digits) - 1;\n",
        "\n",
        "    // Calculate indices using thread and block indices\n",
        "    int idx1 = blockIdx.x * blockDim.x + threadIdx.x; // First uppercase letter index\n",
        "    int idx2 = blockIdx.y * blockDim.y + threadIdx.y; // Second uppercase letter index\n",
        "    int idx3 = blockIdx.z * blockDim.z + threadIdx.z; // First digit index\n",
        "\n",
        "    // Ensure indices are within range and password has not yet been found\n",
        "    if (idx1 < letterSize && idx2 < letterSize && idx3 < digitSize && !(*d_found)) {\n",
        "        // Iterate over all possible second digits\n",
        "        for (int idx4 = 0; idx4 < digitSize; idx4++) {\n",
        "            char rawPassword[5] = {uppercase[idx1], uppercase[idx2], digits[idx3], digits[idx4], '\\0'};\n",
        "            char encryptedGuess[11] = {0};\n",
        "\n",
        "            // Encrypt the guess\n",
        "            CudaCrypt(rawPassword, encryptedGuess);\n",
        "\n",
        "            // Compare with the target\n",
        "            bool match = true;\n",
        "            for (int i = 0; i < 10; i++) {\n",
        "                if (encryptedGuess[i] != d_target[i]) {\n",
        "                    match = false;\n",
        "                    break;\n",
        "                }\n",
        "            }\n",
        "\n",
        "            // If found, copy the result and mark as found\n",
        "            if (match) {\n",
        "                for (int i = 0; i < 4; i++) {\n",
        "                    d_decryptedPassword[i] = rawPassword[i];\n",
        "                }\n",
        "                d_decryptedPassword[4] = '\\0';\n",
        "                *d_found = true;\n",
        "                break;\n",
        "            }\n",
        "        }\n",
        "    }\n",
        "}\n",
        "\n",
        "int main(int argc, char** argv) {\n",
        "    // Ensure the user provides a 10-character encrypted password\n",
        "    if (argc != 2 || strlen(argv[1]) != 10) {\n",
        "        fprintf(stderr, \"Usage: %s <10-character encrypted password>\\n\", argv[0]);\n",
        "        return 1;\n",
        "    }\n",
        "\n",
        "    // Copy the target encrypted password\n",
        "    char target[11] = {0};\n",
        "    strncpy(target, argv[1], 10);\n",
        "\n",
        "    // Allocate device memory\n",
        "    char* d_target;\n",
        "    char* d_decryptedPassword;\n",
        "    bool* d_found;\n",
        "    bool h_found = false;\n",
        "    cudaMalloc((void**)&d_target, sizeof(target));\n",
        "    cudaMalloc((void**)&d_decryptedPassword, 5);\n",
        "    cudaMalloc((void**)&d_found, sizeof(bool));\n",
        "\n",
        "    // Copy the target to the device\n",
        "    cudaMemcpy(d_target, target, sizeof(target), cudaMemcpyHostToDevice);\n",
        "    cudaMemcpy(d_found, &h_found, sizeof(bool), cudaMemcpyHostToDevice);\n",
        "\n",
        "    // Configure blocks and threads\n",
        "    dim3 threadsPerBlock(6, 6, 6);\n",
        "    dim3 numBlocks(5, 5, 2);\n",
        "\n",
        "    // Launch the kernel\n",
        "    crackKernel<<<numBlocks, threadsPerBlock>>>(d_target, d_decryptedPassword, d_found);\n",
        "    cudaDeviceSynchronize();\n",
        "\n",
        "    // Copy results back\n",
        "    cudaMemcpy(&h_found, d_found, sizeof(bool), cudaMemcpyDeviceToHost);\n",
        "    char decryptedPassword[5] = {0};\n",
        "    if (h_found) {\n",
        "        cudaMemcpy(decryptedPassword, d_decryptedPassword, 5, cudaMemcpyDeviceToHost);\n",
        "        printf(\"Decrypted Password: %s\\n\", decryptedPassword);\n",
        "    } else {\n",
        "        printf(\"Password not found.\\n\");\n",
        "    }\n",
        "\n",
        "    // Cleanup device memory\n",
        "    cudaFree(d_target);\n",
        "    cudaFree(d_decryptedPassword);\n",
        "    cudaFree(d_found);\n",
        "\n",
        "    return 0;\n",
        "}\n",
        "\n"
      ],
      "metadata": {
        "colab": {
          "base_uri": "https://localhost:8080/"
        },
        "id": "maxgFz7wzgzw",
        "outputId": "c90b7f50-c13f-409f-f779-7a7d08b7a483",
        "execution": {
          "iopub.status.busy": "2024-05-08T20:56:50.146142Z",
          "iopub.execute_input": "2024-05-08T20:56:50.146511Z",
          "iopub.status.idle": "2024-05-08T20:56:50.155823Z",
          "shell.execute_reply.started": "2024-05-08T20:56:50.146483Z",
          "shell.execute_reply": "2024-05-08T20:56:50.154653Z"
        },
        "trusted": true
      },
      "execution_count": null,
      "outputs": [
        {
          "name": "stdout",
          "text": "Overwriting passwordCracker.cu\n",
          "output_type": "stream"
        }
      ]
    },
    {
      "cell_type": "code",
      "source": [
        "!nvcc -o cudacrack cudacrack.cu"
      ],
      "metadata": {
        "id": "4OWtlSuJ-cVv",
        "execution": {
          "iopub.status.busy": "2024-05-08T20:44:12.730516Z",
          "iopub.execute_input": "2024-05-08T20:44:12.73137Z",
          "iopub.status.idle": "2024-05-08T20:44:15.131645Z",
          "shell.execute_reply.started": "2024-05-08T20:44:12.731333Z",
          "shell.execute_reply": "2024-05-08T20:44:15.130346Z"
        },
        "trusted": true
      },
      "execution_count": null,
      "outputs": []
    },
    {
      "cell_type": "code",
      "source": [
        "!./cudacrack 'AB12'"
      ],
      "metadata": {
        "colab": {
          "base_uri": "https://localhost:8080/"
        },
        "id": "EV58EcTl-h5s",
        "outputId": "cb3097b7-7199-4108-9d9c-365ae08e7585",
        "execution": {
          "iopub.status.busy": "2024-05-08T20:44:19.120568Z",
          "iopub.execute_input": "2024-05-08T20:44:19.121535Z",
          "iopub.status.idle": "2024-05-08T20:44:20.479147Z",
          "shell.execute_reply.started": "2024-05-08T20:44:19.121498Z",
          "shell.execute_reply": "2024-05-08T20:44:20.477771Z"
        },
        "trusted": true
      },
      "execution_count": null,
      "outputs": [
        {
          "name": "stdout",
          "text": "Encrypted Password: CCBECA3162\n",
          "output_type": "stream"
        }
      ]
    },
    {
      "cell_type": "code",
      "source": [
        "'$6$AS$EquwSMfZH6UigdniioE8VWG9qfQ/iburie8TclTB4HCYRomJtmDsM31EqQEbs5Zk09UzWMOtHoXFFmdKRKVoy/'"
      ],
      "metadata": {
        "id": "golJWLbY7c81"
      },
      "execution_count": null,
      "outputs": []
    },
    {
      "cell_type": "code",
      "source": [
        "!nvcc -o passwordCracker passwordCracker.cu\n"
      ],
      "metadata": {
        "id": "L4Sjqohp0wP5",
        "execution": {
          "iopub.status.busy": "2024-05-08T20:56:56.07049Z",
          "iopub.execute_input": "2024-05-08T20:56:56.070902Z",
          "iopub.status.idle": "2024-05-08T20:56:58.078852Z",
          "shell.execute_reply.started": "2024-05-08T20:56:56.070872Z",
          "shell.execute_reply": "2024-05-08T20:56:58.077605Z"
        },
        "trusted": true
      },
      "execution_count": null,
      "outputs": []
    },
    {
      "cell_type": "code",
      "source": [
        "!./passwordCracker 'CCBECA3162'"
      ],
      "metadata": {
        "colab": {
          "base_uri": "https://localhost:8080/"
        },
        "id": "0SXX5DAY0y4G",
        "outputId": "613d31a8-8c73-40cc-db5f-dea250d137c5",
        "execution": {
          "iopub.status.busy": "2024-05-08T20:57:07.030807Z",
          "iopub.execute_input": "2024-05-08T20:57:07.031261Z",
          "iopub.status.idle": "2024-05-08T20:57:08.342371Z",
          "shell.execute_reply.started": "2024-05-08T20:57:07.031208Z",
          "shell.execute_reply": "2024-05-08T20:57:08.341122Z"
        },
        "trusted": true
      },
      "execution_count": null,
      "outputs": [
        {
          "name": "stdout",
          "text": "Decrypted Password: AB12\n",
          "output_type": "stream"
        }
      ]
    }
  ]
}